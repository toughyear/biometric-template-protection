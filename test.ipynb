{
 "metadata": {
  "language_info": {
   "codemirror_mode": {
    "name": "ipython",
    "version": 3
   },
   "file_extension": ".py",
   "mimetype": "text/x-python",
   "name": "python",
   "nbconvert_exporter": "python",
   "pygments_lexer": "ipython3",
   "version": "3.9.0-final"
  },
  "orig_nbformat": 2,
  "kernelspec": {
   "name": "python3",
   "display_name": "Python 3.9.0 64-bit",
   "metadata": {
    "interpreter": {
     "hash": "0e41c821ff1024b2f4f71c3a97f1ddde4ff14c9c2fd19729f106f7ba0bfae719"
    }
   }
  }
 },
 "nbformat": 4,
 "nbformat_minor": 2,
 "cells": [
  {
   "cell_type": "code",
   "execution_count": 41,
   "metadata": {},
   "outputs": [
    {
     "output_type": "stream",
     "name": "stdout",
     "text": [
      "Requirement already satisfied: numpy in c:\\users\\rajeev\\appdata\\local\\programs\\python\\python39\\lib\\site-packages (1.20.1)\n",
      "Requirement already satisfied: opencv-python in c:\\users\\rajeev\\appdata\\local\\programs\\python\\python39\\lib\\site-packages (4.5.1.48)\n",
      "Requirement already satisfied: numpy>=1.19.3 in c:\\users\\rajeev\\appdata\\local\\programs\\python\\python39\\lib\\site-packages (from opencv-python) (1.20.1)\n",
      "Requirement already satisfied: matplotlib in c:\\users\\rajeev\\appdata\\local\\programs\\python\\python39\\lib\\site-packages (3.3.4)\n",
      "Requirement already satisfied: pillow>=6.2.0 in c:\\users\\rajeev\\appdata\\local\\programs\\python\\python39\\lib\\site-packages (from matplotlib) (8.1.0)\n",
      "Requirement already satisfied: kiwisolver>=1.0.1 in c:\\users\\rajeev\\appdata\\local\\programs\\python\\python39\\lib\\site-packages (from matplotlib) (1.3.1)\n",
      "Requirement already satisfied: pyparsing!=2.0.4,!=2.1.2,!=2.1.6,>=2.0.3 in c:\\users\\rajeev\\appdata\\local\\programs\\python\\python39\\lib\\site-packages (from matplotlib) (2.4.7)\n",
      "Requirement already satisfied: numpy>=1.15 in c:\\users\\rajeev\\appdata\\local\\programs\\python\\python39\\lib\\site-packages (from matplotlib) (1.20.1)\n",
      "Requirement already satisfied: cycler>=0.10 in c:\\users\\rajeev\\appdata\\local\\programs\\python\\python39\\lib\\site-packages (from matplotlib) (0.10.0)\n",
      "Requirement already satisfied: python-dateutil>=2.1 in c:\\users\\rajeev\\appdata\\roaming\\python\\python39\\site-packages (from matplotlib) (2.8.1)\n",
      "Requirement already satisfied: six in c:\\users\\rajeev\\appdata\\roaming\\python\\python39\\site-packages (from cycler>=0.10->matplotlib) (1.15.0)\n"
     ]
    }
   ],
   "source": [
    "!pip install numpy\n",
    "!pip install opencv-python\n",
    "!pip install matplotlib "
   ]
  },
  {
   "cell_type": "code",
   "execution_count": 42,
   "metadata": {},
   "outputs": [],
   "source": [
    "%matplotlib inline\n",
    "import cv2\n",
    "import numpy as np\n",
    "from matplotlib import pyplot as plt\n"
   ]
  },
  {
   "cell_type": "code",
   "execution_count": 43,
   "metadata": {},
   "outputs": [],
   "source": [
    "face_cascade = cv2.CascadeClassifier('haarcascade_frontalface_alt.xml')\n",
    "eye_cascade = cv2.CascadeClassifier('haarcascade_eye.xml')"
   ]
  },
  {
   "cell_type": "code",
   "execution_count": 44,
   "metadata": {},
   "outputs": [],
   "source": [
    "test_image = cv2.imread('testimage.png')\n",
    "gray_image  = cv2.cvtColor(test_image, cv2.COLOR_BGR2GRAY)\n",
    "#cv2.imshow('Window',gray_image)\n",
    "#cv2.waitKey(0)"
   ]
  },
  {
   "cell_type": "code",
   "execution_count": 45,
   "metadata": {},
   "outputs": [
    {
     "output_type": "stream",
     "name": "stdout",
     "text": [
      "[10, 20, 50, 60]\n"
     ]
    },
    {
     "output_type": "execute_result",
     "data": {
      "text/plain": [
       "-1"
      ]
     },
     "metadata": {},
     "execution_count": 45
    }
   ],
   "source": [
    "# there can be multiple faces in picture\n",
    "#faces is a list of all such faces\n",
    "faces = face_cascade.detectMultiScale(gray_image, 1.3, 5)\n",
    "\n",
    "class eyeCoordinates:\n",
    "  def __init__(self,x,y,w,h):\n",
    "    self.x = x  \n",
    "    self.y = y     \n",
    "    self.w = w     \n",
    "    self.h = h\n",
    "\n",
    "  def rectValue(self):\n",
    "    return [self.x,self.y,self.w + self.x,self.h + self.y]\n",
    "  def rectStart(self):\n",
    "    return (self.x,self.y)\n",
    "  def rectEnd(self):\n",
    "    return (self.w + self.x,self.h + self.y)\n",
    "\n",
    "\n",
    "print(eyeCoordinates(10,20,40,40).rectValue())\n",
    "eyesList = []\n",
    "for (x,y,w,h) in faces:\n",
    "  #we now have a list of faces, lets go one by one\n",
    "  cv2.rectangle(test_image, (x, y), (x+w, y+h), (153,50,204), 2 )\n",
    "  \n",
    "  #let's find out eyes inside these faces\n",
    "  #this face is our region of interest for eyes\n",
    "  roi_gray = gray_image[x:x+w,y:y+h]\n",
    "  roi_color = test_image[x:x+w,y:y+h]\n",
    "  eyes = eye_cascade.detectMultiScale(roi_gray)\n",
    "  for (ex, ey, ew, eh) in eyes:\n",
    "    cv2.rectangle(roi_color, (ex, ey), (ex+ew, ey+eh), (0,255,0), 2) \n",
    "    eyesList.append(eyeCoordinates(ex+x,ey+y,ew,eh))\n",
    "\n",
    "#print(eyesList[0].x)\n",
    "test2_image = cv2.imread('test2.png')\n",
    "cv2.rectangle(test2_image, eyesList[0].rectStart()  , eyesList[0].rectEnd(), (153,50,204), 2)\n",
    "cv2.rectangle(test2_image, eyesList[1].rectStart()  , eyesList[1].rectEnd(), (153,50,204), 2)\n",
    "#cv2.rectangle(test_image, startCoord , endCoord, (255,0,0), 2)\n",
    "cv2.imshow('Window',test2_image)\n",
    "#cv2.imshow('eye1',eye1)\n",
    "cv2.waitKey(0)\n"
   ]
  },
  {
   "cell_type": "code",
   "execution_count": 60,
   "metadata": {},
   "outputs": [
    {
     "output_type": "error",
     "ename": "SyntaxError",
     "evalue": "invalid syntax (<ipython-input-60-1e07ed9a1cd9>, line 5)",
     "traceback": [
      "\u001b[1;36m  File \u001b[1;32m\"<ipython-input-60-1e07ed9a1cd9>\"\u001b[1;36m, line \u001b[1;32m5\u001b[0m\n\u001b[1;33m    print((eyesList[0].y):(eyesList[0].h))\u001b[0m\n\u001b[1;37m                         ^\u001b[0m\n\u001b[1;31mSyntaxError\u001b[0m\u001b[1;31m:\u001b[0m invalid syntax\n"
     ]
    }
   ],
   "source": [
    "# As a sample, let's work on left eye only\n",
    "#crop and save as left_eye\n",
    "\n",
    "left_eye = gray_image[(eyesList[0].y):(eyesList[0].h) ,(eyesList[0].x):(eyesList[0].w)  ]\n",
    "print((eyesList[0].y):(eyesList[0].h))\n",
    "#left_eye = gray_image[0:500, 0:600  ]\n",
    "cv2.imshow('Window',left_eye)\n",
    "cv2.waitKey(0)\n",
    "\n"
   ]
  },
  {
   "cell_type": "code",
   "execution_count": null,
   "metadata": {},
   "outputs": [],
   "source": []
  }
 ]
}